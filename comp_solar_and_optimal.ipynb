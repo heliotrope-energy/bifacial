{
 "cells": [
  {
   "cell_type": "code",
   "execution_count": null,
   "metadata": {},
   "outputs": [],
   "source": [
    "# At a specific time interval (say, every hour) of a single day, \n",
    "    # => get an optimal angle (the angle that maximises the radiance)\n",
    "    # => get the solar-oriented angle\n",
    "    # => compare the values \n",
    "    \n",
    "# There are potentially two things that went wrong:\n",
    "#     -> It is worrisome that the optimal angle turns out to be 147 for all hours. I checked a million times why it \n",
    "#         is the case, but I can't find the bug. Please, let me know if you find it.  \n",
    "#     -> I was not sure whether such (the one I used) conversion of solar-oriented angles makes sense. "
   ]
  },
  {
   "cell_type": "code",
   "execution_count": 1,
   "metadata": {},
   "outputs": [
    {
     "name": "stdout",
     "output_type": "stream",
     "text": [
      "/Users/eleonorakiziv/Desktop/bifacialvf-master/bifacialvf\n"
     ]
    },
    {
     "data": {
      "text/plain": [
       "u'/Users/eleonorakiziv/Desktop/bifacialvf-master/bifacialvf'"
      ]
     },
     "execution_count": 1,
     "metadata": {},
     "output_type": "execute_result"
    }
   ],
   "source": [
    "import bifacialvf    \n",
    "import os\n",
    "# change directory to \\bifacialvf\\ root\n",
    "os.chdir(os.path.dirname(bifacialvf.__file__))\n",
    "%pwd"
   ]
  },
  {
   "cell_type": "code",
   "execution_count": 2,
   "metadata": {},
   "outputs": [],
   "source": [
    "# we are going to do one day first - 1987 year,1 month, 1 day, 8 hour,0 minute => 1st of January 1987 starting at 8:00 \n",
    "\n",
    "from loadVFresults import loadVFresults\n",
    "import pandas as pd\n",
    "from datetime import date, datetime, timedelta\n",
    "\n",
    "new_dict = {}\n",
    "value = ()\n",
    "\n",
    "hour = {8: '08',\n",
    "        9: '09', \n",
    "        10: '10',\n",
    "        11: '11',\n",
    "        12: '12',\n",
    "        13: '13',\n",
    "        14: '14',\n",
    "        15: '15',\n",
    "        16: '16',\n",
    "        17: '17'}\n",
    "    \n",
    "for beta in xrange (1, 148):\n",
    "    (data, metadata) = loadVFresults(\"data/Output/Angles/\" + str(beta)+'.csv')\n",
    "    data['measdatetime'] = pd.to_datetime(data[['Year', 'Month', 'Day','Hour', 'Minute']])\n",
    "    \n",
    "    # for all hours \n",
    "    for integer, string in sorted(hour.items()):\n",
    "        singlehour = (data['measdatetime'] =='1987-01-01 ' + str (string) + ':00:00')\n",
    "        data['GTIFrontavg'] = data[['No_1_RowFrontGTI', 'No_2_RowFrontGTI','No_3_RowFrontGTI','No_4_RowFrontGTI','No_5_RowFrontGTI','No_6_RowFrontGTI']].mean(axis=1)\n",
    "        data['GTIBackavg'] = data[['No_1_RowBackGTI', 'No_2_RowBackGTI','No_3_RowBackGTI','No_4_RowBackGTI','No_5_RowBackGTI','No_6_RowBackGTI']].mean(axis=1)\n",
    "        front_single_day_sum = data['GTIFrontavg'][singlehour].sum()\n",
    "        back_single_day_sum = data['GTIBackavg'][singlehour].sum()\n",
    "        bifacial_ratio = back_single_day_sum/front_single_day_sum*100\n",
    "        value = (beta, integer)\n",
    "        new_dict[value] = bifacial_ratio"
   ]
  },
  {
   "cell_type": "code",
   "execution_count": 3,
   "metadata": {},
   "outputs": [
    {
     "name": "stdout",
     "output_type": "stream",
     "text": [
      "{8: 147, 9: 147, 10: 147, 11: 147, 12: 147, 13: 147, 14: 147, 15: 147, 16: 147, 17: 147}\n"
     ]
    }
   ],
   "source": [
    "# I am trying to identify the angles at each hour that maximise radiance. \n",
    "max_hour=0\n",
    "max_rad =0\n",
    "max_beta=0\n",
    "\n",
    "# this dictionary is going to hold the optimal angle beta at each hour\n",
    "hour_beta = {}\n",
    "# this dictionary is going to hold the radiation, associated with the optimal beta\n",
    "hour_rad = {}\n",
    "\n",
    "for integer, string in hour.items(): \n",
    "    for beta in xrange(1, 148):\n",
    "        if new_dict[(beta,  integer)] > max_rad:\n",
    "            max_rad = new_dict[(beta, integer)]\n",
    "            max_beta = beta\n",
    "            hour_beta[integer] = max_beta\n",
    "            hour_rad[integer] = max_rad\n",
    "    max_hour=0\n",
    "    max_rad =0\n",
    "    max_beta=0\n",
    "    \n",
    "       \n",
    "print hour_beta\n"
   ]
  },
  {
   "cell_type": "code",
   "execution_count": 4,
   "metadata": {},
   "outputs": [
    {
     "name": "stdout",
     "output_type": "stream",
     "text": [
      "{8: -51.453736850512584, 9: -39.61071355874524, 10: -27.763895051784502, 11: -16.17548745869162, 12: -5.081377285035915, 13: 5.38958002762569, 14: 14.461625487511313, 15: 21.937504178096262, 16: 27.135093369096065, 17: 29.436087684239066}\n"
     ]
    }
   ],
   "source": [
    "# Since solarpy requires python3, I am just going to upload the resulting dictionary, which specifies the solar-oriented \n",
    "# angles at each of the hours we are looking at. \n",
    "solar_data = {}\n",
    "with open('solar_oriented_angles.txt') as raw_data:\n",
    "    for item in raw_data:\n",
    "        item.strip('\\n')\n",
    "        if ':' in item:\n",
    "            key,value = item.split(':')\n",
    "            value = float(value.strip('\\n'))\n",
    "            key = int(key)\n",
    "            solar_data[key]=value\n",
    "print solar_data\n"
   ]
  },
  {
   "cell_type": "code",
   "execution_count": 5,
   "metadata": {
    "scrolled": true
   },
   "outputs": [],
   "source": [
    "import math \n",
    "# radiation received by the optimal angle \n",
    "# the radiation received by the sun centered angle on the same axes\n",
    "\n",
    "# As you can see, the values produced by pysolar range from (-90, 90). However, the model only accepted values \n",
    "# from 0 to 147. Having sketched the tilt produced, I was thinking maybe if the value is negative, we just \n",
    "# need to add 90 to the abs value of the angle and use the obtained angle. \n",
    "\n",
    "# This is a step that should possibly be reconsidered! \n",
    "\n",
    "for hour, beta in solar_data.items():\n",
    "    solar_data[hour] = int(solar_data[hour])\n",
    "    if solar_data[hour] < 0: \n",
    "        beta = 180-math.fabs(solar_data[hour])\n",
    "        if beta > 147:\n",
    "            beta = 147\n",
    "        if beta < 0:\n",
    "            beta = 0 \n",
    "        solar_data[hour] = beta\n",
    "        "
   ]
  },
  {
   "cell_type": "code",
   "execution_count": 6,
   "metadata": {
    "scrolled": true
   },
   "outputs": [
    {
     "data": {
      "text/plain": [
       "[<matplotlib.lines.Line2D at 0x1114c6990>]"
      ]
     },
     "execution_count": 6,
     "metadata": {},
     "output_type": "execute_result"
    },
    {
     "data": {
      "image/png": "[encoded data removed]",
      "text/plain": [
       "<matplotlib.figure.Figure at 0x11141aa10>"
      ]
     },
     "metadata": {},
     "output_type": "display_data"
    }
   ],
   "source": [
    "# 'Bifacial ratio received by the optimal angle(blue) vs bifacial ratio calculated for \n",
    "# sun-centered angles (green)'\n",
    "\n",
    "import matplotlib.pyplot as plt\n",
    "import pandas as pd\n",
    "%matplotlib inline\n",
    "\n",
    "fig, ax = plt.subplots()\n",
    "ax1 = ax.twinx()\n",
    "ax.set_title('Bifacial ratio received by the optimal angle(blue) vs bifacial ratio calculated for sun-centered angles (green)')\n",
    "ax.set_xlabel(\"Hour\")\n",
    "ax.set_ylabel(\"Bifacial ratio\")\n",
    "\n",
    "new_list = []\n",
    "\n",
    "for hour, beta in sorted(solar_data.items()):\n",
    "    to_add = new_dict[(beta, hour)]\n",
    "    new_list.append(to_add)\n",
    "    \n",
    "\n",
    "ax.plot(sorted(solar_data.keys()), new_list, 'g', alpha = 0.5)\n",
    "ax.plot(sorted(hour_rad.keys()), hour_rad.values(), 'b', alpha = 0.5)\n",
    "\n",
    "\n"
   ]
  },
  {
   "cell_type": "code",
   "execution_count": 7,
   "metadata": {},
   "outputs": [
    {
     "data": {
      "text/plain": [
       "[<matplotlib.lines.Line2D at 0x1114e2cd0>]"
      ]
     },
     "execution_count": 7,
     "metadata": {},
     "output_type": "execute_result"
    },
    {
     "data": {
      "image/png": "[encoded data removed]",
      "text/plain": [
       "<matplotlib.figure.Figure at 0x1121332d0>"
      ]
     },
     "metadata": {},
     "output_type": "display_data"
    }
   ],
   "source": [
    "# This graph is going to demonstrate how different the sun-centered and the optimal angles: \n",
    "import matplotlib.pyplot as plt\n",
    "import pandas as pd\n",
    "%matplotlib inline\n",
    "\n",
    "fig, ax = plt.subplots()\n",
    "ax1 = ax.twinx()\n",
    "ax.set_title('Optimal angles (blue) and sun-oriented angles(green)')\n",
    "ax.set_xlabel(\"Hour\")\n",
    "ax.set_ylabel(\"Angles\")\n",
    "\n",
    "new_list = []\n",
    "\n",
    "for hour, beta in sorted(solar_data.items()):\n",
    "    to_add = new_dict[(beta, hour)]\n",
    "    new_list.append(to_add)\n",
    "    \n",
    "\n",
    "ax.plot(sorted(solar_data.keys()), solar_data.values(), 'g', alpha = 0.5)\n",
    "ax.plot(sorted(hour_beta.keys()), hour_beta.values(), 'b', alpha = 0.5)"
   ]
  },
  {
   "cell_type": "code",
   "execution_count": null,
   "metadata": {},
   "outputs": [],
   "source": []
  }
 ],
 "metadata": {
  "kernelspec": {
   "display_name": "Python 2",
   "language": "python",
   "name": "python2"
  },
  "language_info": {
   "codemirror_mode": {
    "name": "ipython",
    "version": 2
   },
   "file_extension": ".py",
   "mimetype": "text/x-python",
   "name": "python",
   "nbconvert_exporter": "python",
   "pygments_lexer": "ipython2",
   "version": "2.7.14"
  }
 },
 "nbformat": 4,
 "nbformat_minor": 2
}
