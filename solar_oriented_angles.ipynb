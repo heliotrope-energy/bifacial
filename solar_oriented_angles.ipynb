{
 "cells": [
  {
   "cell_type": "code",
   "execution_count": 1,
   "metadata": {},
   "outputs": [],
   "source": [
    "# Pysolar requires python3 => that's why I have created a separate file; \n",
    "from pysolar.solar import *\n",
    "import datetime"
   ]
  },
  {
   "cell_type": "code",
   "execution_count": 2,
   "metadata": {},
   "outputs": [],
   "source": [
    "# I am going to keep the location the same as in the simulation: 37.5079105,-77.3264709\n",
    "solar_oriented_hour = {}\n",
    "def calculate_solar_angles(year, month, day, start_hour, end_hour, minute, sec, milisec, lat, long):\n",
    "\n",
    "    for hour in range(start_hour, end_hour+1):\n",
    "        hour = datetime.datetime(year, month, day, hour, minute, sec, milisec, tzinfo=datetime.timezone.utc)\n",
    "        solar_oriented_hour[hour.hour] = get_altitude(lat,long, hour)\n",
    "\n",
    "    print (solar_oriented_hour)\n"
   ]
  },
  {
   "cell_type": "code",
   "execution_count": 3,
   "metadata": {},
   "outputs": [
    {
     "name": "stdout",
     "output_type": "stream",
     "text": [
      "{8: -51.453736850512584, 9: -39.61071355874524, 10: -27.763895051784502, 11: -16.17548745869162, 12: -5.081377285035915, 13: 5.38958002762569, 14: 14.461625487511313, 15: 21.937504178096262, 16: 27.135093369096065, 17: 29.436087684239066}\n"
     ]
    }
   ],
   "source": [
    "calculate_solar_angles(1987, 1, 1, 8, 17, 0, 0, 0, 37.5079105,-77.3264709)"
   ]
  },
  {
   "cell_type": "code",
   "execution_count": 6,
   "metadata": {},
   "outputs": [],
   "source": [
    "with open('bifacialvf/solar_oriented_angles.txt', 'w') as f:\n",
    "    for key, value in solar_oriented_hour.items():\n",
    "        f.write('%s:%s\\n' % (key, value))"
   ]
  },
  {
   "cell_type": "code",
   "execution_count": null,
   "metadata": {},
   "outputs": [],
   "source": []
  }
 ],
 "metadata": {
  "kernelspec": {
   "display_name": "Python 3",
   "language": "python",
   "name": "python3"
  },
  "language_info": {
   "codemirror_mode": {
    "name": "ipython",
    "version": 3
   },
   "file_extension": ".py",
   "mimetype": "text/x-python",
   "name": "python",
   "nbconvert_exporter": "python",
   "pygments_lexer": "ipython3",
   "version": "3.6.5"
  }
 },
 "nbformat": 4,
 "nbformat_minor": 2
}
